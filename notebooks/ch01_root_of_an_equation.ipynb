{
 "cells": [
  {
   "cell_type": "code",
   "execution_count": 50,
   "metadata": {},
   "outputs": [],
   "source": [
    "using PyPlot\n",
    "using Formatting\n",
    "using Printf"
   ]
  },
  {
   "cell_type": "code",
   "execution_count": 51,
   "metadata": {},
   "outputs": [
    {
     "data": {
      "text/plain": [
       "0.001"
      ]
     },
     "execution_count": 51,
     "metadata": {},
     "output_type": "execute_result"
    }
   ],
   "source": [
    "epsilon=0.001"
   ]
  },
  {
   "cell_type": "markdown",
   "metadata": {},
   "source": [
    "## 1.1 二分法"
   ]
  },
  {
   "cell_type": "code",
   "execution_count": 52,
   "metadata": {},
   "outputs": [
    {
     "name": "stdout",
     "output_type": "stream",
     "text": [
      "x^3 + x - 1 = 0の二分法による数値計算\n",
      "初期値 a =  0.000\n",
      "初期値 b =  1.000\n",
      "近似解 x =  0.683\n"
     ]
    }
   ],
   "source": [
    "function func_y(x)\n",
    "    return x^3 + x - 1.0\n",
    "end\n",
    "\n",
    "function nibun(a, b)\n",
    " \n",
    "    c = 0.0\n",
    "    while true\n",
    "        \n",
    "        c = (a+b) / 2\n",
    "        if func_y(c) * func_y(a) < 0\n",
    "            b = c\n",
    "        else\n",
    "            a = c\n",
    "        end\n",
    "        \n",
    "        if abs(a-b) < epsilon\n",
    "           break \n",
    "        end\n",
    "\n",
    "    end\n",
    "        \n",
    "    return c\n",
    "    \n",
    "end\n",
    "\n",
    "a = 0.0\n",
    "b = 1.0\n",
    "\n",
    "println(\"x^3 + x - 1 = 0の二分法による数値計算\")\n",
    "@printf(\"初期値 a = %6.3lf\\n\", a)\n",
    "@printf(\"初期値 b = %6.3lf\\n\", b)\n",
    "x = nibun(a, b)\n",
    "@printf(\"近似解 x = %6.3lf\\n\", x)"
   ]
  },
  {
   "cell_type": "markdown",
   "metadata": {},
   "source": [
    "## 1.2 ニュートン法"
   ]
  },
  {
   "cell_type": "code",
   "execution_count": 53,
   "metadata": {},
   "outputs": [
    {
     "name": "stdout",
     "output_type": "stream",
     "text": [
      "x^3 + x - 1 = 0のニュートン法による数値計算\n",
      "近似解 x =  0.682\n"
     ]
    }
   ],
   "source": [
    "function func_y(x)\n",
    "    return x^3 + x - 1.0\n",
    "end\n",
    "\n",
    "function func_z(x)\n",
    "    return 3x^2 + 1.0\n",
    "end\n",
    "\n",
    "a = 1.0\n",
    "b = 0.0\n",
    "\n",
    "while true\n",
    "    b = a - func_y(a) / func_z(a)\n",
    "    if abs(a - b) < epsilon\n",
    "        break\n",
    "    else\n",
    "        a = b\n",
    "    end\n",
    "end\n",
    "\n",
    "println(\"x^3 + x - 1 = 0のニュートン法による数値計算\")\n",
    "@printf(\"近似解 x = %6.3lf\\n\", b)"
   ]
  },
  {
   "cell_type": "markdown",
   "metadata": {},
   "source": [
    "## 1.3 ベアストウ法"
   ]
  },
  {
   "cell_type": "code",
   "execution_count": 61,
   "metadata": {},
   "outputs": [
    {
     "name": "stdout",
     "output_type": "stream",
     "text": [
      "実数部\t\t虚数部\n",
      "-1.53927\t 3.22733\n",
      "-1.53927\t-3.22733\n",
      " 3.80357\t 0.00000\n",
      " 1.27495\t 0.00000\n"
     ]
    }
   ],
   "source": [
    "function bairstow(a, n)\n",
    "    p = 1.0\n",
    "    q = 1.0\n",
    "    \n",
    "    b = Array{Float64}(undef, n+1)\n",
    "    c = Array{Float64}(undef, n+1)\n",
    "        \n",
    "    while true\n",
    "        b[1] = a[1]\n",
    "        b[2] = a[2] - p * b[1]\n",
    "        for k in 3:n+1\n",
    "            b[k] = a[k] - p *  b[k-1] - q * b[k-2]\n",
    "        end\n",
    "\n",
    "        c[1] = b[1]\n",
    "        c[2] = b[2] - p * c[1]\n",
    "        for k in 3:n+1\n",
    "            c[k] = b[k] - p *  c[k-1] - q * c[k-2]\n",
    "        end        \n",
    "  \n",
    "        e = c[n-1]^2 - c[n-2] * (c[n] - b[n]) # 式(1.31)\n",
    "        dp = (b[n] * c[n-1] - b[n+1] * c[n-2]) / e   # 式(1.29)\n",
    "        dq = (b[n+1] * c[n-1] - b[n] * (c[n]  - b[n]) ) / e   # 式(1.30)\n",
    "        p = p + dp\n",
    "        q = q + dq\n",
    "\n",
    "        #@printf(\"%8.5lf\\t%8.5lf\\t%8.5lf\\n\", e, dp, dq)\n",
    "        \n",
    "        if (abs(dp) < epsilon) && (abs(dq) < epsilon)\n",
    "            break\n",
    "        end\n",
    "        \n",
    "    end\n",
    "    \n",
    "    for i in 1:n-1\n",
    "        a[i] = b[i]\n",
    "    end\n",
    "    \n",
    "    return p, q\n",
    "        \n",
    "end\n",
    "\n",
    "# 二次式の求根\n",
    "function root(p, q)\n",
    "   \n",
    "    d = p^2 - 4q\n",
    "    if d <= 0\n",
    "        f = sqrt(-d)\n",
    "        r1 = -p / 2.0\n",
    "        r2 = -p / 2.0\n",
    "        i1 = f / 2.0\n",
    "        i2 = -f / 2.0\n",
    "    else\n",
    "        f = sqrt(d)\n",
    "        r1 = (-p + f) / 2.0\n",
    "        r2 = (-p - f) / 2.0\n",
    "        i1 = 0.0\n",
    "        i2 = 0.0\n",
    "    end\n",
    "    @printf(\"%8.5lf\\t%8.5lf\\n%8.5lf\\t%8.5lf\\n\", r1, i1, r2, i2)\n",
    "    \n",
    "end\n",
    "\n",
    "n = 4\n",
    "a = [1.0, -2.0, 2.0, -50.0, 62.0]\n",
    "@printf(\"実数部\\t\\t虚数部\\n\")\n",
    "while true\n",
    "    if n == 1\n",
    "        @printf(\"%8.5lf\\t\\t%8.5lf\\n\", -a[2]/a[1], 0.0)\n",
    "        break\n",
    "    end\n",
    "    if n == 2\n",
    "        root(a[2], a[3])\n",
    "        break\n",
    "    end\n",
    "    if n == 0\n",
    "        break\n",
    "    end\n",
    "\n",
    "    p, q = bairstow(a, n)\n",
    "    root(p, q)\n",
    "    n = n - 2\n",
    "end"
   ]
  }
 ],
 "metadata": {
  "kernelspec": {
   "display_name": "Julia 1.0.4",
   "language": "julia",
   "name": "julia-1.0"
  },
  "language_info": {
   "file_extension": ".jl",
   "mimetype": "application/julia",
   "name": "julia",
   "version": "1.0.4"
  }
 },
 "nbformat": 4,
 "nbformat_minor": 2
}

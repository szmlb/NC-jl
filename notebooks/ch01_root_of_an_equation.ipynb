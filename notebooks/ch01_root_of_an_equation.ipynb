{
 "cells": [
  {
   "cell_type": "code",
   "execution_count": 19,
   "metadata": {},
   "outputs": [],
   "source": [
    "using PyPlot\n",
    "using Formatting\n",
    "using Printf"
   ]
  },
  {
   "cell_type": "code",
   "execution_count": 20,
   "metadata": {},
   "outputs": [
    {
     "data": {
      "text/plain": [
       "0.001"
      ]
     },
     "execution_count": 20,
     "metadata": {},
     "output_type": "execute_result"
    }
   ],
   "source": [
    "epsilon=0.001"
   ]
  },
  {
   "cell_type": "markdown",
   "metadata": {},
   "source": [
    "## 1.1 二分法"
   ]
  },
  {
   "cell_type": "code",
   "execution_count": 29,
   "metadata": {},
   "outputs": [
    {
     "name": "stdout",
     "output_type": "stream",
     "text": [
      "x^3 + x - 1 = 0の二分法による数値計算\n",
      "初期値 a =  0.000\n",
      "初期値 b =  1.000\n",
      "近似解 x =  0.683\n"
     ]
    }
   ],
   "source": [
    "function func_y(x)\n",
    "    return x^3 + x - 1.0\n",
    "end\n",
    "\n",
    "function nibun(a, b)\n",
    " \n",
    "    c = 0.0\n",
    "    while true\n",
    "        \n",
    "        c = (a+b) / 2\n",
    "        if func_y(c) * func_y(a) < 0\n",
    "            b = c\n",
    "        else\n",
    "            a = c\n",
    "        end\n",
    "        \n",
    "        if abs(a-b) < epsilon\n",
    "           break \n",
    "        end\n",
    "\n",
    "    end\n",
    "        \n",
    "    return c\n",
    "    \n",
    "end\n",
    "\n",
    "a = 0.0\n",
    "b = 1.0\n",
    "\n",
    "println(\"x^3 + x - 1 = 0の二分法による数値計算\")\n",
    "@printf(\"初期値 a = %6.3lf\\n\", a)\n",
    "@printf(\"初期値 b = %6.3lf\\n\", b)\n",
    "x = nibun(a, b)\n",
    "@printf(\"近似解 x = %6.3lf\\n\", x)"
   ]
  },
  {
   "cell_type": "markdown",
   "metadata": {},
   "source": [
    "## 1.2 ニュートン法"
   ]
  },
  {
   "cell_type": "code",
   "execution_count": 30,
   "metadata": {},
   "outputs": [
    {
     "name": "stdout",
     "output_type": "stream",
     "text": [
      "x^3 + x - 1 = 0のニュートン法による数値計算\n",
      "近似解 x =  0.682\n"
     ]
    }
   ],
   "source": [
    "function func_y(x)\n",
    "    return x^3 + x - 1.0\n",
    "end\n",
    "\n",
    "function func_z(x)\n",
    "    return 3x^2 + 1.0\n",
    "end\n",
    "\n",
    "a = 1.0\n",
    "b = 0.0\n",
    "\n",
    "while true\n",
    "    b = a - func_y(a) / func_z(a)\n",
    "    if abs(a - b) < epsilon\n",
    "        break\n",
    "    else\n",
    "        a = b\n",
    "    end\n",
    "end\n",
    "\n",
    "println(\"x^3 + x - 1 = 0のニュートン法による数値計算\")\n",
    "@printf(\"近似解 x = %6.3lf\\n\", b)"
   ]
  },
  {
   "cell_type": "code",
   "execution_count": null,
   "metadata": {},
   "outputs": [],
   "source": []
  }
 ],
 "metadata": {
  "kernelspec": {
   "display_name": "Julia 1.0.4",
   "language": "julia",
   "name": "julia-1.0"
  },
  "language_info": {
   "file_extension": ".jl",
   "mimetype": "application/julia",
   "name": "julia",
   "version": "1.0.4"
  }
 },
 "nbformat": 4,
 "nbformat_minor": 2
}

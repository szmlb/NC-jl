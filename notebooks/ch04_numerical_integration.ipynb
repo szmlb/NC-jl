{
 "cells": [
  {
   "cell_type": "code",
   "execution_count": 2,
   "metadata": {},
   "outputs": [],
   "source": [
    "using PyPlot\n",
    "using Formatting\n",
    "using Printf"
   ]
  },
  {
   "cell_type": "markdown",
   "metadata": {},
   "source": [
    "## 4.1 台形公式"
   ]
  },
  {
   "cell_type": "code",
   "execution_count": 3,
   "metadata": {},
   "outputs": [
    {
     "name": "stdout",
     "output_type": "stream",
     "text": [
      "ANS =  57.6900\n"
     ]
    },
    {
     "data": {
      "text/plain": [
       "0"
      ]
     },
     "execution_count": 3,
     "metadata": {},
     "output_type": "execute_result"
    }
   ],
   "source": [
    "N=30\n",
    "\n",
    "function func_y(x)\n",
    "\n",
    "    return x^4.0 + 2.0 * x\n",
    "    \n",
    "end\n",
    "\n",
    "function main()\n",
    "\n",
    "    y = Array{Float64}(undef, N+1)\n",
    "    xa = 0.0\n",
    "    xb = 3.0\n",
    "    z = 0.0\n",
    "    \n",
    "    h = (xb - xa) / N\n",
    "    \n",
    "    for i in 1:N+1\n",
    "        x = xa + h * (i-1)\n",
    "        y[i] = func_y(x)\n",
    "    end\n",
    "    \n",
    "    for i in 2:N\n",
    "        z = z + 2.0 * y[i]\n",
    "    end\n",
    "    s = (h / 2.0) * (y[1] + z + y[N+1])\n",
    "           \n",
    "    @printf(\"ANS = %8.4lf\\n\", s)\n",
    "    return 0\n",
    "    \n",
    "end\n",
    "    \n",
    "main()"
   ]
  },
  {
   "cell_type": "markdown",
   "metadata": {},
   "source": [
    "## 4.2 シンプソンの公式"
   ]
  },
  {
   "cell_type": "code",
   "execution_count": 4,
   "metadata": {},
   "outputs": [
    {
     "name": "stdout",
     "output_type": "stream",
     "text": [
      "ANS =  57.6000\n"
     ]
    },
    {
     "data": {
      "text/plain": [
       "0"
      ]
     },
     "execution_count": 4,
     "metadata": {},
     "output_type": "execute_result"
    }
   ],
   "source": [
    "N=30\n",
    "\n",
    "function func_y(x)\n",
    "\n",
    "    return x^4.0 + 2.0 * x\n",
    "    \n",
    "end\n",
    "\n",
    "function main()\n",
    "\n",
    "    y = Array{Float64}(undef, N+1)\n",
    "    xa = 0.0\n",
    "    xb = 3.0\n",
    "    z1 = 0.0\n",
    "    z2 = 0.0\n",
    "    h = 0.0\n",
    "    \n",
    "    h = (xb - xa) / N\n",
    "    \n",
    "    for i in 1:N+1\n",
    "        x = xa + h * (i-1)\n",
    "        y[i] = func_y(x)\n",
    "    end\n",
    "    \n",
    "    for i in 2:2:N\n",
    "        z1 = z1 + 4.0 * y[i]\n",
    "    end\n",
    "    for i in 3:2:N\n",
    "        z2 = z2 + 2.0 * y[i]\n",
    "    end\n",
    "    s = (h / 3.0) * (y[1] + z1 + z2 + y[N+1])\n",
    "           \n",
    "    @printf(\"ANS = %8.4lf\\n\", s)\n",
    "    return 0\n",
    "    \n",
    "end\n",
    "    \n",
    "main()"
   ]
  }
 ],
 "metadata": {
  "kernelspec": {
   "display_name": "Julia 1.0.4",
   "language": "julia",
   "name": "julia-1.0"
  },
  "language_info": {
   "file_extension": ".jl",
   "mimetype": "application/julia",
   "name": "julia",
   "version": "1.0.4"
  }
 },
 "nbformat": 4,
 "nbformat_minor": 2
}

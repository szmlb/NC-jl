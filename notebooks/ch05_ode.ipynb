{
 "cells": [
  {
   "cell_type": "code",
   "execution_count": 1,
   "metadata": {},
   "outputs": [],
   "source": [
    "using PyPlot\n",
    "using Formatting\n",
    "using Printf"
   ]
  },
  {
   "cell_type": "markdown",
   "metadata": {},
   "source": [
    "   ## 5.1 オイラーの前進公式"
   ]
  },
  {
   "cell_type": "code",
   "execution_count": 4,
   "metadata": {},
   "outputs": [
    {
     "name": "stdout",
     "output_type": "stream",
     "text": [
      "   X\t   Y\n",
      " 0.0000  0.0000\n",
      " 1.0000  0.9900\n",
      " 2.0000  3.9800\n",
      " 3.0000  8.9700\n",
      " 4.0000 15.9600\n",
      " 5.0000 24.9500\n",
      " 6.0000 35.9400\n",
      " 7.0000 48.9300\n",
      " 8.0000 63.9200\n",
      " 9.0000 80.9100\n",
      "10.0000 99.9000\n"
     ]
    },
    {
     "data": {
      "text/plain": [
       "0"
      ]
     },
     "execution_count": 4,
     "metadata": {},
     "output_type": "execute_result"
    }
   ],
   "source": [
    "eps = 0.00000001\n",
    "\n",
    "function func_f(x)\n",
    "\n",
    "    return 2.0 * x\n",
    "    \n",
    "end\n",
    "\n",
    "function main()\n",
    "\n",
    "    x = 0.0\n",
    "    y = 0.0\n",
    "    h = 0.01\n",
    "    dx = 1.0\n",
    "    xmax = 10.0\n",
    "    ddx = 0.0\n",
    "\n",
    "    @printf(\"   X\\t   Y\\n\")\n",
    "    while x <= xmax\n",
    "\n",
    "        if x >= ddx - eps\n",
    "            ddx += dx;\n",
    "            @printf(\"%7.4lf %7.4lf\\n\", x, y)\n",
    "        end\n",
    "\n",
    "        y = y + h * func_f(x)\n",
    "        x = x + h\n",
    "    end\n",
    "    \n",
    "    return 0\n",
    "    \n",
    "end\n",
    "    \n",
    "main()"
   ]
  },
  {
   "cell_type": "markdown",
   "metadata": {},
   "source": [
    "## 5.2 ルンゲクッタの公式"
   ]
  },
  {
   "cell_type": "code",
   "execution_count": 7,
   "metadata": {},
   "outputs": [
    {
     "name": "stdout",
     "output_type": "stream",
     "text": [
      "   X\t\tY\n",
      "  0.0000   0.0000\n",
      "  1.0000   1.0000\n",
      "  2.0000   4.0000\n",
      "  3.0000   9.0000\n",
      "  4.0000  16.0000\n",
      "  5.0000  25.0000\n",
      "  6.0000  36.0000\n",
      "  7.0000  49.0000\n",
      "  8.0000  64.0000\n",
      "  9.0000  81.0000\n",
      " 10.0000 100.0000\n"
     ]
    },
    {
     "data": {
      "text/plain": [
       "0"
      ]
     },
     "execution_count": 7,
     "metadata": {},
     "output_type": "execute_result"
    }
   ],
   "source": [
    "eps = 0.00000001\n",
    "\n",
    "function func_f(x, y)\n",
    "\n",
    "    return 2.0 * x\n",
    "    \n",
    "end\n",
    "\n",
    "function main()\n",
    "\n",
    "    x = 0.0\n",
    "    y = 0.0\n",
    "    h = 0.01\n",
    "    dx = 1.0\n",
    "    xmax = 10.0\n",
    "    ddx = 0.0\n",
    "    \n",
    "\n",
    "    @printf(\"   X\\t\\tY\\n\")\n",
    "    while x <= xmax\n",
    "\n",
    "        if x >= ddx - eps\n",
    "            ddx += dx;\n",
    "            @printf(\"%8.4lf %8.4lf\\n\", x, y)\n",
    "        end\n",
    "\n",
    "        k1 = func_f(x, y)\n",
    "        k2 = func_f(x +  h / 2.0, y + h * k1 * h / 2.0)\n",
    "        k3 = func_f(x +  h / 2.0, y + h * k2 * h / 2.0)\n",
    "        k4 = func_f(x +  h, y + k3 * h)\n",
    "        \n",
    "        y = y + h / 6.0 * (k1 + 2.0 * k2 + 2.0 * k3 + k4)\n",
    "        x = x + h\n",
    "    end\n",
    "    \n",
    "    return 0\n",
    "    \n",
    "end\n",
    "    \n",
    "main()"
   ]
  },
  {
   "cell_type": "code",
   "execution_count": null,
   "metadata": {},
   "outputs": [],
   "source": []
  }
 ],
 "metadata": {
  "kernelspec": {
   "display_name": "Julia 1.0.4",
   "language": "julia",
   "name": "julia-1.0"
  },
  "language_info": {
   "file_extension": ".jl",
   "mimetype": "application/julia",
   "name": "julia",
   "version": "1.0.4"
  }
 },
 "nbformat": 4,
 "nbformat_minor": 2
}

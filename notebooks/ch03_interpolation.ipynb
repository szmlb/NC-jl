{
 "cells": [
  {
   "cell_type": "code",
   "execution_count": 5,
   "metadata": {},
   "outputs": [],
   "source": [
    "using PyPlot\n",
    "using Formatting\n",
    "using Printf"
   ]
  },
  {
   "cell_type": "markdown",
   "metadata": {},
   "source": [
    "## 3.1 ラグランジュの補間法"
   ]
  },
  {
   "cell_type": "code",
   "execution_count": 6,
   "metadata": {},
   "outputs": [
    {
     "name": "stdout",
     "output_type": "stream",
     "text": [
      "XX\t\t\tYY\n",
      "     0.00\t    0.00\n",
      "     0.20\t    0.31\n",
      "     0.40\t    0.53\n",
      "     0.60\t    0.72\n",
      "     0.80\t    0.91\n",
      "     1.00\t    1.10\n",
      "     1.20\t    1.32\n",
      "     1.40\t    1.57\n",
      "     1.60\t    1.86\n",
      "     1.80\t    2.17\n",
      "     2.00\t    2.50\n",
      "     2.20\t    2.84\n",
      "     2.40\t    3.17\n",
      "     2.60\t    3.48\n",
      "     2.80\t    3.76\n",
      "     3.00\t    4.00\n",
      "     3.20\t    4.19\n",
      "     3.40\t    4.32\n",
      "     3.60\t    4.39\n",
      "     3.80\t    4.42\n",
      "     4.00\t    4.41\n",
      "     4.20\t    4.40\n",
      "     4.40\t    4.40\n",
      "     4.60\t    4.46\n",
      "     4.80\t    4.64\n",
      "     5.00\t    5.00\n"
     ]
    },
    {
     "data": {
      "text/plain": [
       "0"
      ]
     },
     "execution_count": 6,
     "metadata": {},
     "output_type": "execute_result"
    }
   ],
   "source": [
    "x = [0.0, 1.0, 2.0, 3.0, 3.1, 5.0]\n",
    "y = [0.0, 1.1, 2.5, 4.0, 4.1, 5.0]\n",
    "N=6\n",
    "\n",
    "function lagrange(xx)\n",
    "\n",
    "    z = Array{Float64}(undef, N)\n",
    "    yy = 0.0\n",
    "    \n",
    "    for k in 1:N\n",
    "        z[k] = 1.0\n",
    "        \n",
    "        for i in 1:N\n",
    "            if i != k\n",
    "                z[k] = z[k] * (xx- x[i]) / (x[k] - x[i])\n",
    "            end\n",
    "        end\n",
    "        yy = yy + y[k] * z[k]\n",
    "    end\n",
    "    \n",
    "    return yy\n",
    "    \n",
    "end\n",
    "\n",
    "function main()\n",
    "\n",
    "    @printf(\"XX\\t\\t\\tYY\\n\")\n",
    "    for xx in 0:0.2:5\n",
    "        yy = lagrange(xx)\n",
    "        @printf(\" %8.2lf\\t%8.2lf\\n\", xx, yy)\n",
    "    end\n",
    "    \n",
    "    return 0\n",
    "\n",
    "end\n",
    "    \n",
    "main()"
   ]
  },
  {
   "cell_type": "markdown",
   "metadata": {},
   "source": [
    "## 3.2 最小二乗法"
   ]
  },
  {
   "cell_type": "code",
   "execution_count": 15,
   "metadata": {},
   "outputs": [
    {
     "name": "stdout",
     "output_type": "stream",
     "text": [
      "A 1 =   0.000\n",
      "A 2 =   0.928\n",
      "A 3 =   0.158\n",
      "A 4 =   0.022\n",
      "A 5 =  -0.010\n"
     ]
    },
    {
     "data": {
      "text/plain": [
       "0"
      ]
     },
     "execution_count": 15,
     "metadata": {},
     "output_type": "execute_result"
    }
   ],
   "source": [
    "N=6\n",
    "M=4\n",
    "epsilon = 0.0001\n",
    "a = zeros(Float64, M+1, M+2)\n",
    "\n",
    "function jordan()\n",
    "\n",
    "    for i in 1:M+1\n",
    "        pivot = a[i, i]\n",
    "        if abs(pivot) < epsilon\n",
    "            @printf(\"ピボットが許容誤差以下\\n\")\n",
    "            return 1\n",
    "        end\n",
    "        \n",
    "        for j in 1:M+2\n",
    "            a[i, j] = a[i, j] / pivot\n",
    "        end\n",
    "\n",
    "        for k in 1:M+1\n",
    "            delta = a[k, i]\n",
    "            for j in 1:M+2\n",
    "                if k != i\n",
    "                    a[k, j] = a[k, j] - delta * a[i, j]\n",
    "                end\n",
    "            end\n",
    "        end\n",
    "    end\n",
    "    return 0\n",
    "end\n",
    "\n",
    "function main()\n",
    "\n",
    "    x = [0.0, 1.0, 2.0, 3.0, 3.1, 5.0]\n",
    "    y = [0.0, 1.1, 2.5, 4.0, 4.1, 5.0]\n",
    "    \n",
    "    for i in 1:M+1\n",
    "        for j in 1:M+2\n",
    "            a[i, j] = 0.0\n",
    "        end\n",
    "    end\n",
    "    \n",
    "    for i in 1:M+1\n",
    "        for j in 1:M+1\n",
    "            for k in 1:N\n",
    "                a[j, i] = a[j, i] + x[k]^(i-1+j-1)\n",
    "            end\n",
    "        end\n",
    "    end\n",
    "    \n",
    "    for j in 1:M+1\n",
    "        for k in 1:N\n",
    "            a[j, M+2] = a[j, M+2] + y[k] * x[k]^(j-1)\n",
    "        end\n",
    "    end\n",
    "    if jordan() == 1\n",
    "        return 1\n",
    "    end\n",
    "\n",
    "    for i in 1:M+1\n",
    "        @printf(\"A%2d = %7.3lf\\n\", i, a[i, M+2])\n",
    "    end\n",
    "        \n",
    "    return 0\n",
    "    \n",
    "end\n",
    "    \n",
    "main()"
   ]
  }
 ],
 "metadata": {
  "kernelspec": {
   "display_name": "Julia 1.0.4",
   "language": "julia",
   "name": "julia-1.0"
  },
  "language_info": {
   "file_extension": ".jl",
   "mimetype": "application/julia",
   "name": "julia",
   "version": "1.0.4"
  }
 },
 "nbformat": 4,
 "nbformat_minor": 2
}

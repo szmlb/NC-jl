{
 "cells": [
  {
   "cell_type": "code",
   "execution_count": 2,
   "metadata": {},
   "outputs": [],
   "source": [
    "using PyPlot\n",
    "using Formatting\n",
    "using Printf"
   ]
  },
  {
   "cell_type": "markdown",
   "metadata": {},
   "source": [
    "## 2.1 ガウス・ジョルダン法"
   ]
  },
  {
   "cell_type": "code",
   "execution_count": 10,
   "metadata": {},
   "outputs": [
    {
     "name": "stdout",
     "output_type": "stream",
     "text": [
      "X1 =   1.00\n",
      "X2 =   2.00\n",
      "X3 =   3.00\n"
     ]
    },
    {
     "data": {
      "text/plain": [
       "0"
      ]
     },
     "execution_count": 10,
     "metadata": {},
     "output_type": "execute_result"
    }
   ],
   "source": [
    "function main()\n",
    "\n",
    "    N=3\n",
    "    epsilon=0.001\n",
    "\n",
    "    a = [2.0 1.0 3.0 13.0; 1.0 3.0 2.0 13.0; 3.0 2.0 1.0 10.0]\n",
    "\n",
    "    for i in 1:N\n",
    "        pivot = a[i, i]\n",
    "        if abs(pivot) < epsilon\n",
    "            @printf(\"ピボットが許容誤差以下\\n\")\n",
    "            return -1\n",
    "        end\n",
    "        for j in i:N+1\n",
    "            a[i, j] = a[i, j] / pivot\n",
    "        end\n",
    "        \n",
    "        for k in 1:N\n",
    "            del = a[k, i]\n",
    "            for j in i:N+1\n",
    "                if k != i\n",
    "                    a[k, j] = a[k, j] - del * a[i, j]\n",
    "                end\n",
    "            end\n",
    "        end \n",
    "    end\n",
    "    \n",
    "    for l in 1:N\n",
    "        @printf(\"X%d = %6.2lf\\n\", l, a[l, N+1])\n",
    "    end\n",
    "        \n",
    "    return 0\n",
    "\n",
    "end\n",
    "    \n",
    "main()"
   ]
  },
  {
   "cell_type": "markdown",
   "metadata": {},
   "source": [
    "## 2.2 ガウス・ザイデル法"
   ]
  },
  {
   "cell_type": "code",
   "execution_count": 11,
   "metadata": {},
   "outputs": [
    {
     "name": "stdout",
     "output_type": "stream",
     "text": [
      "x1 =  1.000016\n",
      "x2 =  1.999981\n",
      "x3 =  2.999996\n"
     ]
    },
    {
     "data": {
      "text/plain": [
       "0"
      ]
     },
     "execution_count": 11,
     "metadata": {},
     "output_type": "execute_result"
    }
   ],
   "source": [
    "function main()\n",
    "\n",
    "    N=3\n",
    "    epsilon=0.001\n",
    "    MAX_LOOP=30\n",
    "\n",
    "    a = [5.0 1.0 1.0 10.0; 1.0 4.0 1.0 12.0; 2.0 1.0 3.0 13.0]     \n",
    "    x = Array{Float64}(undef, N)\n",
    "    y = Array{Float64}(undef, N)   \n",
    "    \n",
    "    for i in 1:N\n",
    "         x[i] = 1.0\n",
    "    end\n",
    "\n",
    "    for k in 1:MAX_LOOP\n",
    "        q = 0.0\n",
    "        for i in 1:N\n",
    "            s = 0.0\n",
    "            for j in 1:N\n",
    "                if i != j\n",
    "                     s = s + a[i, j] * x[j]\n",
    "                end\n",
    "            end\n",
    "            y[i] = (a[i, N+1] - s)/ a[i, i]\n",
    "            q = q + abs(x[i] - y[i])\n",
    "            x[i] = y[i]\n",
    "        end\n",
    "        if q < epsilon\n",
    "            for i in 1:N\n",
    "                @printf(\"x%d = %9.6lf\\n\", i, x[i])\n",
    "            end\n",
    "            return 0\n",
    "        end\n",
    "    end\n",
    "    @printf(\"収束せず\\n\")\n",
    "    return -1\n",
    "end\n",
    "    \n",
    "main()"
   ]
  },
  {
   "cell_type": "code",
   "execution_count": null,
   "metadata": {},
   "outputs": [],
   "source": []
  }
 ],
 "metadata": {
  "kernelspec": {
   "display_name": "Julia 1.0.4",
   "language": "julia",
   "name": "julia-1.0"
  },
  "language_info": {
   "file_extension": ".jl",
   "mimetype": "application/julia",
   "name": "julia",
   "version": "1.0.4"
  }
 },
 "nbformat": 4,
 "nbformat_minor": 2
}
